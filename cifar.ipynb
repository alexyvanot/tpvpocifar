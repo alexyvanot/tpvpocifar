{
 "cells": [
  {
   "cell_type": "markdown",
   "id": "5560a7d3",
   "metadata": {},
   "source": [
    "# Projet Vision par Ordinateur"
   ]
  },
  {
   "cell_type": "code",
   "execution_count": null,
   "id": "3222eb41",
   "metadata": {},
   "outputs": [],
   "source": [
    "\n",
    "import matplotlib.pyplot as plt\n",
    "import tensorflow as tf\n",
    "import numpy as np\n",
    "from tensorflow.keras.models import Sequential\n",
    "from tensorflow.keras.layers import Conv2D, MaxPooling2D, Flatten, Dense, Dropout\n",
    "from tensorflow.keras.utils import to_categorical\n",
    "from tensorflow.keras.callbacks import EarlyStopping\n",
    "from sklearn.metrics import confusion_matrix\n",
    "import seaborn as sns\n"
   ]
  },
  {
   "cell_type": "markdown",
   "id": "3cb57863",
   "metadata": {},
   "source": [
    "## 1. Chargement du dataset CIFAR-10 et préparation"
   ]
  },
  {
   "cell_type": "code",
   "execution_count": null,
   "id": "b3ce522a",
   "metadata": {},
   "outputs": [],
   "source": [
    "\n",
    "(x_train, y_train), (x_test, y_test) = tf.keras.datasets.cifar10.load_data()\n",
    "x_train = x_train.astype('float32') / 255.\n",
    "x_test = x_test.astype('float32') / 255.\n",
    "y_train_cat = to_categorical(y_train, 10)\n",
    "y_test_cat = to_categorical(y_test, 10)\n",
    "\n",
    "print(\"Shape X_train:\", x_train.shape)\n",
    "print(\"Shape y_train:\", y_train.shape)\n"
   ]
  },
  {
   "cell_type": "markdown",
   "id": "813ac50e",
   "metadata": {},
   "source": [
    "## 2. Répartition des classes"
   ]
  },
  {
   "cell_type": "code",
   "execution_count": null,
   "id": "ed31be54",
   "metadata": {},
   "outputs": [],
   "source": [
    "\n",
    "classes = ['airplane', 'automobile', 'bird', 'cat', 'deer',\n",
    "           'dog', 'frog', 'horse', 'ship', 'truck']\n",
    "counts = np.bincount(y_train.flatten())\n",
    "\n",
    "plt.figure(figsize=(10,6))\n",
    "plt.bar(classes, counts)\n",
    "plt.title(\"Répartition des classes dans CIFAR-10\")\n",
    "plt.xticks(rotation=45)\n",
    "plt.show()\n"
   ]
  },
  {
   "cell_type": "markdown",
   "id": "cb257f74",
   "metadata": {},
   "source": [
    "## 3. Vérification des images et labels"
   ]
  },
  {
   "cell_type": "code",
   "execution_count": null,
   "id": "98566a9b",
   "metadata": {},
   "outputs": [],
   "source": [
    "\n",
    "idx = np.random.choice(len(x_train), 9, replace=False)\n",
    "plt.figure(figsize=(10,10))\n",
    "for i, index in enumerate(idx):\n",
    "    plt.subplot(3, 3, i+1)\n",
    "    plt.imshow(x_train[index])\n",
    "    plt.title(classes[y_train[index][0]])\n",
    "    plt.axis('off')\n",
    "plt.show()\n"
   ]
  },
  {
   "cell_type": "markdown",
   "id": "55c8a181",
   "metadata": {},
   "source": [
    "## 4. Construction et entraînement du modèle CNN"
   ]
  },
  {
   "cell_type": "code",
   "execution_count": null,
   "id": "fbf497b5",
   "metadata": {},
   "outputs": [],
   "source": [
    "\n",
    "model = Sequential([\n",
    "    Conv2D(32, (3,3), activation='relu', input_shape=(32, 32, 3)),\n",
    "    MaxPooling2D((2,2)),\n",
    "    Conv2D(64, (3,3), activation='relu'),\n",
    "    MaxPooling2D((2,2)),\n",
    "    Flatten(),\n",
    "    Dense(128, activation='relu'),\n",
    "    Dropout(0.5),\n",
    "    Dense(10, activation='softmax')\n",
    "])\n",
    "\n",
    "model.compile(optimizer='adam', loss='categorical_crossentropy', metrics=['accuracy'])\n",
    "\n",
    "early_stop = EarlyStopping(patience=3, restore_best_weights=True)\n",
    "\n",
    "history = model.fit(x_train, y_train_cat, epochs=10, batch_size=64,\n",
    "                    validation_split=0.2, callbacks=[early_stop])\n"
   ]
  },
  {
   "cell_type": "markdown",
   "id": "e66eefa4",
   "metadata": {},
   "source": [
    "## 5. Analyse des performances - courbes"
   ]
  },
  {
   "cell_type": "code",
   "execution_count": null,
   "id": "7ba69537",
   "metadata": {},
   "outputs": [],
   "source": [
    "\n",
    "plt.plot(history.history['loss'], label='train loss')\n",
    "plt.plot(history.history['val_loss'], label='val loss')\n",
    "plt.legend()\n",
    "plt.title(\"Loss\")\n",
    "plt.show()\n",
    "\n",
    "plt.plot(history.history['accuracy'], label='train acc')\n",
    "plt.plot(history.history['val_accuracy'], label='val acc')\n",
    "plt.legend()\n",
    "plt.title(\"Accuracy\")\n",
    "plt.show()\n"
   ]
  },
  {
   "cell_type": "markdown",
   "id": "6da3343c",
   "metadata": {},
   "source": [
    "## 6. Prédiction, accuracy et matrice de confusion"
   ]
  },
  {
   "cell_type": "code",
   "execution_count": null,
   "id": "9f9ff873",
   "metadata": {},
   "outputs": [],
   "source": [
    "\n",
    "loss, acc = model.evaluate(x_test, y_test_cat)\n",
    "print(\"Test accuracy:\", acc)\n",
    "\n",
    "y_pred = np.argmax(model.predict(x_test), axis=1)\n",
    "y_true = y_test.flatten()\n",
    "\n",
    "cm = confusion_matrix(y_true, y_pred)\n",
    "plt.figure(figsize=(10,8))\n",
    "sns.heatmap(cm, annot=True, fmt='d', xticklabels=classes, yticklabels=classes, cmap=\"Blues\")\n",
    "plt.xlabel(\"Predicted\")\n",
    "plt.ylabel(\"True\")\n",
    "plt.title(\"Matrice de confusion\")\n",
    "plt.show()\n"
   ]
  },
  {
   "cell_type": "markdown",
   "id": "7c990083",
   "metadata": {},
   "source": [
    "## 7. Sauvegarde du modèle"
   ]
  },
  {
   "cell_type": "code",
   "execution_count": null,
   "id": "bb377628",
   "metadata": {},
   "outputs": [],
   "source": [
    "\n",
    "model.save(\"cifar10_model.h5\")\n"
   ]
  }
 ],
 "metadata": {
  "language_info": {
   "name": "python"
  }
 },
 "nbformat": 4,
 "nbformat_minor": 5
}
